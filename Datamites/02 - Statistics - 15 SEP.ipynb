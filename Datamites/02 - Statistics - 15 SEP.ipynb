{
 "cells": [
  {
   "cell_type": "markdown",
   "metadata": {},
   "source": [
    "## Measure of Central Tendencies\n",
    "Mean, Median and Mode"
   ]
  },
  {
   "cell_type": "code",
   "execution_count": 2,
   "metadata": {},
   "outputs": [
    {
     "name": "stdout",
     "output_type": "stream",
     "text": [
      "Average Sal of org a: 19.5\n",
      "Average Sal of org b: 22.4\n"
     ]
    }
   ],
   "source": [
    "import scipy as sp\n",
    "org_a = [23,15,35,18,14,8,7,5,45,25]  # INR Lakhs per annum\n",
    "org_b = [21,12,29,38,34,18,6,15,32,19]  # INR Lakhs per annum\n",
    "print( \"Average Sal of org a:\",sp.mean(org_a))\n",
    "print( \"Average Sal of org b:\",sp.mean(org_b))"
   ]
  },
  {
   "cell_type": "code",
   "execution_count": 9,
   "metadata": {},
   "outputs": [
    {
     "name": "stdout",
     "output_type": "stream",
     "text": [
      "Average Sal of org a: 37.1\n",
      "Average Sal of org b: 22.1\n",
      "Median Sal of org a: 16.5\n",
      "Median Sal of org b: 20.0\n"
     ]
    }
   ],
   "source": [
    "org_a = [23,15,35,18,15,8,7,5,45,200]  # INR Lakhs per annum\n",
    "org_b = [21,12,29,38,34,18,6,12,32,19]  # INR Lakhs per annum\n",
    "print( \"Average Sal of org a:\",sp.mean(org_a))\n",
    "print( \"Average Sal of org b:\",sp.mean(org_b))\n",
    "print( \"Median Sal of org a:\",sp.median(org_a))\n",
    "print( \"Median Sal of org b:\",sp.median(org_b))\n",
    "# Mean is not a good measure when data has extreme values\n",
    "# Median is a better measure when data has extreme values"
   ]
  },
  {
   "cell_type": "code",
   "execution_count": 10,
   "metadata": {},
   "outputs": [
    {
     "name": "stdout",
     "output_type": "stream",
     "text": [
      "Mode Sal of org a: ModeResult(mode=array([15]), count=array([2]))\n",
      "Mode Sal of org b: ModeResult(mode=array([12]), count=array([2]))\n"
     ]
    }
   ],
   "source": [
    "from scipy import stats\n",
    "print( \"Mode Sal of org a:\",stats.mode(org_a))\n",
    "print( \"Mode Sal of org b:\",stats.mode(org_b))"
   ]
  },
  {
   "cell_type": "markdown",
   "metadata": {},
   "source": [
    "## Measure of  Data Variability"
   ]
  },
  {
   "cell_type": "code",
   "execution_count": 14,
   "metadata": {},
   "outputs": [
    {
     "name": "stdout",
     "output_type": "stream",
     "text": [
      "Train a mean delay: 15.0\n",
      "Train b mean delay: 15.0\n",
      "Train a median delay: 15.0\n",
      "Train b median delay: 15.0\n"
     ]
    }
   ],
   "source": [
    "train_a = [10,18,15,12,20]\n",
    "train_b = [2,32,15,21,5]\n",
    "print('Train a mean delay:', sp.mean(train_a))\n",
    "print('Train b mean delay:', sp.mean(train_b))\n",
    "print('Train a median delay:', sp.median(train_a))\n",
    "print('Train b median delay:', sp.median(train_b))"
   ]
  },
  {
   "cell_type": "code",
   "execution_count": 17,
   "metadata": {},
   "outputs": [
    {
     "name": "stdout",
     "output_type": "stream",
     "text": [
      "Train a range: 10\n",
      "Train b range: 30\n"
     ]
    }
   ],
   "source": [
    "#Range Max - min\n",
    "print('Train a range:',max(train_a) - min(train_a))\n",
    "print('Train b range:',max(train_b) - min(train_b))"
   ]
  },
  {
   "cell_type": "code",
   "execution_count": 18,
   "metadata": {},
   "outputs": [
    {
     "data": {
      "text/plain": [
       "2.449489742783178"
      ]
     },
     "execution_count": 18,
     "metadata": {},
     "output_type": "execute_result"
    }
   ],
   "source": [
    "sp.std([12,15,18])"
   ]
  },
  {
   "cell_type": "markdown",
   "metadata": {},
   "source": [
    "# Skewness"
   ]
  },
  {
   "cell_type": "code",
   "execution_count": 19,
   "metadata": {},
   "outputs": [],
   "source": [
    "import seaborn as sb\n",
    "%matplotlib inline"
   ]
  },
  {
   "cell_type": "code",
   "execution_count": 22,
   "metadata": {},
   "outputs": [
    {
     "name": "stdout",
     "output_type": "stream",
     "text": [
      "0.30560974816536424\n"
     ]
    },
    {
     "name": "stderr",
     "output_type": "stream",
     "text": [
      "/Users/ashok/anaconda3/lib/python3.6/site-packages/scipy/stats/stats.py:1706: FutureWarning: Using a non-tuple sequence for multidimensional indexing is deprecated; use `arr[tuple(seq)]` instead of `arr[seq]`. In the future this will be interpreted as an array index, `arr[np.array(seq)]`, which will result either in an error or a different result.\n",
      "  return np.add.reduce(sorted[indexer] * weights, axis=axis) / sumval\n"
     ]
    },
    {
     "data": {
      "image/png": "[encoded data removed]",
      "text/plain": [
       "<matplotlib.figure.Figure at 0x1a1f7509b0>"
      ]
     },
     "metadata": {},
     "output_type": "display_data"
    }
   ],
   "source": [
    "bp = [123,125,115,110,108,120,121,125,134,140]\n",
    "print(stats.skew(bp))\n",
    "sb.distplot(bp);"
   ]
  },
  {
   "cell_type": "markdown",
   "metadata": {},
   "source": [
    "### Generate data which neg skewed, skew < -1"
   ]
  },
  {
   "cell_type": "code",
   "execution_count": 25,
   "metadata": {},
   "outputs": [
    {
     "name": "stdout",
     "output_type": "stream",
     "text": [
      "Skewness: 0.30560974816536424\n",
      "Kurtosis: -0.5981300845309065\n"
     ]
    },
    {
     "name": "stderr",
     "output_type": "stream",
     "text": [
      "/Users/ashok/anaconda3/lib/python3.6/site-packages/scipy/stats/stats.py:1706: FutureWarning: Using a non-tuple sequence for multidimensional indexing is deprecated; use `arr[tuple(seq)]` instead of `arr[seq]`. In the future this will be interpreted as an array index, `arr[np.array(seq)]`, which will result either in an error or a different result.\n",
      "  return np.add.reduce(sorted[indexer] * weights, axis=axis) / sumval\n"
     ]
    },
    {
     "data": {
      "image/png": "[encoded data removed]",
      "text/plain": [
       "<matplotlib.figure.Figure at 0x1a1f850940>"
      ]
     },
     "metadata": {},
     "output_type": "display_data"
    }
   ],
   "source": [
    "from scipy import stats\n",
    "bp = [123,125,115,110,108,120,121,125,134,140]\n",
    "print('Skewness:',stats.skew(bp))\n",
    "print('Kurtosis:',stats.kurtosis(bp))\n",
    "sb.distplot(bp);"
   ]
  },
  {
   "cell_type": "markdown",
   "metadata": {},
   "source": [
    "# Hypothesis Testing"
   ]
  },
  {
   "cell_type": "markdown",
   "metadata": {},
   "source": [
    "## One Sample T-Test"
   ]
  },
  {
   "cell_type": "raw",
   "metadata": {},
   "source": [
    "H0 : Marriage age in Bang IT prof Male is 30\n",
    "Ha : Marriage age in Bang IT prof Male is NOT 30\n",
    "30 is hypothesized mean"
   ]
  },
  {
   "cell_type": "code",
   "execution_count": 32,
   "metadata": {},
   "outputs": [
    {
     "data": {
      "text/plain": [
       "(0.12657767169555884, 0.10829098986533436)"
      ]
     },
     "execution_count": 32,
     "metadata": {},
     "output_type": "execute_result"
    }
   ],
   "source": [
    "ban_mar_age = [29,32,33,29,29,31,34,32,28,38,24]\n",
    "stats.skew(ban_mar_age),stats.kurtosis(ban_mar_age)"
   ]
  },
  {
   "cell_type": "code",
   "execution_count": 33,
   "metadata": {},
   "outputs": [
    {
     "data": {
      "text/plain": [
       "Ttest_1sampResult(statistic=0.7423074889580887, pvalue=0.47497578097913207)"
      ]
     },
     "execution_count": 33,
     "metadata": {},
     "output_type": "execute_result"
    }
   ],
   "source": [
    "stats.ttest_1samp(ban_mar_age,30)"
   ]
  },
  {
   "cell_type": "raw",
   "metadata": {},
   "source": [
    "P , prob value = 47%,\n",
    "P is not less than 5%, we fail to REJECT H0, we ACCEPT H0\n",
    "so, we conclude Marriage age in Bang IT prof Male is 30"
   ]
  },
  {
   "cell_type": "markdown",
   "metadata": {},
   "source": [
    "## Two Sample T-Test (Independent)"
   ]
  },
  {
   "cell_type": "raw",
   "metadata": {},
   "source": [
    "H0 : Mar age of IT prof Male in Ban and Che are SAME\n",
    "Ha : Mar age of IT prof Male in Ban and Che are NOT SAME"
   ]
  },
  {
   "cell_type": "code",
   "execution_count": 37,
   "metadata": {},
   "outputs": [],
   "source": [
    "ban_mar_age = [29,32,33,29,29,31,34,32,28,38,24]\n",
    "che_mar_age = [25,28,24,28,29,24,26,29,31,32]"
   ]
  },
  {
   "cell_type": "code",
   "execution_count": 38,
   "metadata": {},
   "outputs": [
    {
     "data": {
      "text/plain": [
       "Ttest_indResult(statistic=2.2476065296559673, pvalue=0.03667131281575096)"
      ]
     },
     "execution_count": 38,
     "metadata": {},
     "output_type": "execute_result"
    }
   ],
   "source": [
    "stats.ttest_ind(ban_mar_age,che_mar_age)"
   ]
  },
  {
   "cell_type": "raw",
   "metadata": {},
   "source": [
    "P = 3.6%, P < 5% , REJECT H0, Accept Ha\n",
    "Ha : Mar age of IT prof Male in Ban and Che are NOT SAME"
   ]
  },
  {
   "cell_type": "raw",
   "metadata": {},
   "source": [
    "1. Null Hypo always equates data / find similarities\n",
    "2. P < 5%, we Reject H0"
   ]
  },
  {
   "cell_type": "code",
   "execution_count": null,
   "metadata": {},
   "outputs": [],
   "source": []
  },
  {
   "cell_type": "code",
   "execution_count": null,
   "metadata": {},
   "outputs": [],
   "source": []
  },
  {
   "cell_type": "markdown",
   "metadata": {},
   "source": [
    "## Two Sample Relational T-Test"
   ]
  },
  {
   "cell_type": "raw",
   "metadata": {},
   "source": [
    "H0 : Response time of before and after RB is SAME\n",
    "Ha : Response time of before and after RB is NOT SAME"
   ]
  },
  {
   "cell_type": "code",
   "execution_count": 43,
   "metadata": {},
   "outputs": [],
   "source": [
    "before_rb = [45,38,65,58,42] # response time\n",
    "after_rb  = [25,28,45,28,38]"
   ]
  },
  {
   "cell_type": "code",
   "execution_count": 44,
   "metadata": {},
   "outputs": [
    {
     "data": {
      "text/plain": [
       "Ttest_relResult(statistic=3.734255485584851, pvalue=0.020221838529679452)"
      ]
     },
     "execution_count": 44,
     "metadata": {},
     "output_type": "execute_result"
    }
   ],
   "source": [
    "stats.ttest_rel(before_rb,after_rb)"
   ]
  },
  {
   "cell_type": "raw",
   "metadata": {},
   "source": [
    "P = 2%, < 5%, We REJECT  H0,  accept Ha\n",
    "Ha, Response time of before and after RB is NOT SAME\n",
    "RB is Effective."
   ]
  },
  {
   "cell_type": "markdown",
   "metadata": {},
   "source": [
    "## ANOVA, Analysis of Variance, F-test"
   ]
  },
  {
   "cell_type": "raw",
   "metadata": {},
   "source": [
    "H0 : Response times of all drinks are SAME\n",
    "Ha : Response times of all drinks are NOT SAME"
   ]
  },
  {
   "cell_type": "code",
   "execution_count": 45,
   "metadata": {},
   "outputs": [],
   "source": [
    "lemon = [ 36,12,46,10,15,20]\n",
    "coffee = [33,10,38,12,13,19]\n",
    "rb = [ 31,9,39,13,10,15]"
   ]
  },
  {
   "cell_type": "code",
   "execution_count": 46,
   "metadata": {},
   "outputs": [
    {
     "data": {
      "text/plain": [
       "F_onewayResult(statistic=0.12208729898260585, pvalue=0.8859415816548135)"
      ]
     },
     "execution_count": 46,
     "metadata": {},
     "output_type": "execute_result"
    }
   ],
   "source": [
    "stats.f_oneway(lemon,coffee,rb)"
   ]
  },
  {
   "cell_type": "raw",
   "metadata": {},
   "source": [
    "P = 88%, is not < 5%, We ACCEPT H0\n",
    "Response times of all drinks are SAME\n",
    "Drinks have NO Effect"
   ]
  },
  {
   "cell_type": "code",
   "execution_count": null,
   "metadata": {},
   "outputs": [],
   "source": []
  },
  {
   "cell_type": "code",
   "execution_count": null,
   "metadata": {},
   "outputs": [],
   "source": []
  },
  {
   "cell_type": "code",
   "execution_count": null,
   "metadata": {},
   "outputs": [],
   "source": []
  }
 ],
 "metadata": {
  "kernelspec": {
   "display_name": "Python 3",
   "language": "python",
   "name": "python3"
  },
  "language_info": {
   "codemirror_mode": {
    "name": "ipython",
    "version": 3
   },
   "file_extension": ".py",
   "mimetype": "text/x-python",
   "name": "python",
   "nbconvert_exporter": "python",
   "pygments_lexer": "ipython3",
   "version": "3.6.2"
  }
 },
 "nbformat": 4,
 "nbformat_minor": 2
}
